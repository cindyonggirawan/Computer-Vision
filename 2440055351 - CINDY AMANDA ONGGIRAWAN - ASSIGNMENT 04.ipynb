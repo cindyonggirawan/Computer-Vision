{
 "cells": [
  {
   "cell_type": "markdown",
   "id": "a9e991aa",
   "metadata": {},
   "source": [
    "## <u>ASSIGNMENT 04: COMP7116001 - COMPUTER VISION 2022</u>"
   ]
  },
  {
   "cell_type": "markdown",
   "id": "18b58b82",
   "metadata": {},
   "source": [
    "<table>\n",
    "    <tr>\n",
    "        <th style=\"text-align:left;\">Name</th>\n",
    "        <td style=\"text-align:left;\">Cindy Amanda Onggirawan</td>\n",
    "        <th style=\"text-align:left;\">Lecturer</th>\n",
    "        <td style=\"text-align:left;\">Dr. Ir. Diaz D. Santika, M.Sc.</td>\n",
    "    </tr>\n",
    "    <tr>\n",
    "        <th style=\"text-align:left;\">NIM</th>\n",
    "        <td style=\"text-align:left;\">2440055351</td>\n",
    "        <th style=\"text-align:left;\">Lecturer Code</th>\n",
    "        <td style=\"text-align:left;\">D1159</td>\n",
    "    </tr>\n",
    "    <tr>\n",
    "        <th style=\"text-align:left;\">Class</th>\n",
    "        <td style=\"text-align:left;\" colspan=\"3\">LA01</td>\n",
    "    </tr>\n",
    "</table>"
   ]
  },
  {
   "cell_type": "markdown",
   "id": "70e6895e",
   "metadata": {},
   "source": [
    "### Harris Corner Algorithm"
   ]
  },
  {
   "cell_type": "code",
   "execution_count": 1,
   "id": "572ed1be",
   "metadata": {},
   "outputs": [],
   "source": [
    "import cv2\n",
    "import numpy as np\n",
    "from matplotlib import pyplot as plt"
   ]
  },
  {
   "cell_type": "code",
   "execution_count": 2,
   "id": "d154a655",
   "metadata": {},
   "outputs": [],
   "source": [
    "img = cv2.imread('./image.png')\n",
    "gray = cv2.cvtColor(img, cv2.COLOR_BGR2GRAY)"
   ]
  },
  {
   "cell_type": "code",
   "execution_count": 3,
   "id": "1f72a58d",
   "metadata": {},
   "outputs": [
    {
     "data": {
      "image/png": "[encoded data removed]",
      "text/plain": [
       "<Figure size 360x360 with 1 Axes>"
      ]
     },
     "metadata": {},
     "output_type": "display_data"
    }
   ],
   "source": [
    "plt.figure(figsize=(5,5))\n",
    "plt.imshow(cv2.cvtColor(img, cv2.COLOR_BGR2RGB))\n",
    "plt.title('Original Image')\n",
    "plt.xticks([]), plt.yticks([])\n",
    "plt.show()"
   ]
  },
  {
   "cell_type": "code",
   "execution_count": 4,
   "id": "a300ecbb",
   "metadata": {},
   "outputs": [],
   "source": [
    "img_gaussian = cv2.GaussianBlur(gray, (3,3), 0)"
   ]
  },
  {
   "cell_type": "code",
   "execution_count": 5,
   "id": "e14753cd",
   "metadata": {},
   "outputs": [],
   "source": [
    "height = img.shape[0]\n",
    "width = img.shape[1]"
   ]
  },
  {
   "cell_type": "code",
   "execution_count": 6,
   "id": "710bf6b7",
   "metadata": {},
   "outputs": [],
   "source": [
    "matrix_R = np.zeros((height, width))"
   ]
  },
  {
   "cell_type": "markdown",
   "id": "6a21b38f",
   "metadata": {},
   "source": [
    "Hitung turunan x dan y. Untuk ini, kita dapat menggunakan fungsi Sobel() dari OpenCV."
   ]
  },
  {
   "cell_type": "markdown",
   "id": "7ef86e1a",
   "metadata": {},
   "source": [
    "### 1. Compute Gaussian derivatives at each pixel"
   ]
  },
  {
   "cell_type": "code",
   "execution_count": 7,
   "id": "cb98ff01",
   "metadata": {},
   "outputs": [],
   "source": [
    "# Hitung turunan pertama gambar x dan y (dx & dy)\n",
    "dx = cv2.Sobel(img_gaussian, cv2.CV_64F, 1, 0, ksize=3)\n",
    "dy = cv2.Sobel(img_gaussian, cv2.CV_64F, 0, 1, ksize=3)"
   ]
  },
  {
   "cell_type": "markdown",
   "id": "4c3b7afd",
   "metadata": {},
   "source": [
    "Turunkan lagi nilai-nilai sebelumnya untuk mendapatkan turunan kedua."
   ]
  },
  {
   "cell_type": "code",
   "execution_count": 8,
   "id": "f6e94592",
   "metadata": {},
   "outputs": [],
   "source": [
    "# Hitung produk dan turunan kedua gambar (dx2, dy2 & dxy)\n",
    "dx2 = np.square(dx)\n",
    "dy2 = np.square(dy)\n",
    "dxy = dx*dy"
   ]
  },
  {
   "cell_type": "markdown",
   "id": "fe4ce9ba",
   "metadata": {},
   "source": [
    "### 2. Compute second moment matrix M in a Gaussian window around each pixel <br> 3. Compute corner response function R"
   ]
  },
  {
   "cell_type": "code",
   "execution_count": 9,
   "id": "c81cd8b8",
   "metadata": {},
   "outputs": [],
   "source": [
    "window_size = 5\n",
    "offset = int(window_size/2)"
   ]
  },
  {
   "cell_type": "markdown",
   "id": "6e534b47",
   "metadata": {},
   "source": [
    "Untuk setiap piksel, jumlahkan turunan kedua yang diperoleh. Di sini kita melakukan saringan 1 piksel dari jendela di atas gambar. Kemudian, kita menentukan matriks M. Lalu, kita menghitung respons detektor dalam matriks R."
   ]
  },
  {
   "cell_type": "code",
   "execution_count": 10,
   "id": "6f8b9957",
   "metadata": {},
   "outputs": [],
   "source": [
    "# Hitung jumlah produk turunan untuk setiap piksel (Sx2, Sy2 & Sxy)\n",
    "for y in range(offset, height-offset):\n",
    "    for x in range(offset, width-offset):\n",
    "        Sx2 = np.sum(dx2[y-offset:y+1+offset, x-offset:x+1+offset])\n",
    "        Sy2 = np.sum(dy2[y-offset:y+1+offset, x-offset:x+1+offset])\n",
    "        Sxy = np.sum(dxy[y-offset:y+1+offset, x-offset:x+1+offset])\n",
    "        \n",
    "        # Tentukan matriks M(x,y) = [[Sx2,Sxy], [Sxy,Sy2]]\n",
    "        matrix_M = np.array([[Sx2,Sxy], [Sxy,Sy2]])\n",
    "        \n",
    "        # Hitung fungsi respon (R = det(matrix_M)-k(Trace(matrix_M))^2)\n",
    "        k = 0.04\n",
    "        det = np.linalg.det(matrix_M)\n",
    "        tr = np.matrix.trace(matrix_M)\n",
    "        R = det-k*(tr**2)\n",
    "        matrix_R[y-offset, x-offset] = R"
   ]
  },
  {
   "cell_type": "markdown",
   "id": "014aec6b",
   "metadata": {},
   "source": [
    "### 4. Threshold R <br> 5. Find local maxima of response function (non-maximum suppression"
   ]
  },
  {
   "cell_type": "markdown",
   "id": "18abbe16",
   "metadata": {},
   "source": [
    "Akhirnya, kita menggunakan nilai threshold untuk mengecualikan beberapa deteksi. Pada langkah sebelumnya, hasil respon matriks R telah dinormalisasi dan hanya bervariasi antara 0 dan 1, sehingga nilai threshold juga harus berada diantara nilai 0 dan 1."
   ]
  },
  {
   "cell_type": "code",
   "execution_count": 11,
   "id": "75937060",
   "metadata": {},
   "outputs": [],
   "source": [
    "# Temukan semua titik diatas threshold (nonmax supression line)\n",
    "cv2.normalize(matrix_R, matrix_R, 0, 1, cv2.NORM_MINMAX)\n",
    "for y in range(offset, height-offset):\n",
    "    for x in range(offset, width-offset):\n",
    "        value = matrix_R[y, x]\n",
    "        threshold = 0.3\n",
    "        if value > threshold:\n",
    "            cv2.circle(img, (x,y), 3, (0,0,255))"
   ]
  },
  {
   "cell_type": "code",
   "execution_count": 12,
   "id": "2c300f70",
   "metadata": {},
   "outputs": [
    {
     "data": {
      "image/png": "[encoded data removed]",
      "text/plain": [
       "<Figure size 360x360 with 1 Axes>"
      ]
     },
     "metadata": {},
     "output_type": "display_data"
    }
   ],
   "source": [
    "plt.figure(figsize=(5,5))\n",
    "plt.imshow(cv2.cvtColor(img, cv2.COLOR_BGR2RGB))\n",
    "plt.title('Manual Implementation of Harris Corner Detection Image')\n",
    "plt.xticks([]), plt.yticks([])\n",
    "plt.show()"
   ]
  },
  {
   "cell_type": "markdown",
   "id": "41bec149",
   "metadata": {},
   "source": [
    "### Another Method: Directly use OpenCV built-in function"
   ]
  },
  {
   "cell_type": "code",
   "execution_count": 13,
   "id": "8ffedef4",
   "metadata": {},
   "outputs": [],
   "source": [
    "img2 = cv2.imread('./image.png')\n",
    "gray = cv2.cvtColor(img2, cv2.COLOR_BGR2GRAY)"
   ]
  },
  {
   "cell_type": "code",
   "execution_count": 14,
   "id": "c38e5956",
   "metadata": {},
   "outputs": [],
   "source": [
    "# Terapkan metode cv2.cornerHarris untuk mendeteksi corners\n",
    "harris = cv2.cornerHarris(gray, 8, 3, 0.04)"
   ]
  },
  {
   "cell_type": "code",
   "execution_count": 15,
   "id": "dfc70608",
   "metadata": {},
   "outputs": [],
   "source": [
    "# Hasil ditandai melalui corners yang melebar\n",
    "harris = cv2.dilate(harris, None)"
   ]
  },
  {
   "cell_type": "code",
   "execution_count": 16,
   "id": "6b513b1e",
   "metadata": {},
   "outputs": [],
   "source": [
    "# Mengembalikan kembali ke gambar asli dengan nilai threshold optimal\n",
    "img2[harris > 0.3 * harris.max()] = [255,0,255]"
   ]
  },
  {
   "cell_type": "code",
   "execution_count": 17,
   "id": "0e469c3d",
   "metadata": {},
   "outputs": [
    {
     "data": {
      "image/png": "[encoded data removed]",
      "text/plain": [
       "<Figure size 360x360 with 1 Axes>"
      ]
     },
     "metadata": {},
     "output_type": "display_data"
    }
   ],
   "source": [
    "plt.figure(figsize=(5,5))\n",
    "plt.imshow(cv2.cvtColor(img2, cv2.COLOR_BGR2RGB))\n",
    "plt.title('OpenCV Implementation of Harris Corner Detection Image')\n",
    "plt.xticks([]), plt.yticks([])\n",
    "plt.show()"
   ]
  },
  {
   "cell_type": "markdown",
   "id": "e19f079d",
   "metadata": {},
   "source": [
    "Kita dapat melihat bahwa algoritma kita sudah benar dan menyerupai built-in function dari OpenCV."
   ]
  },
  {
   "cell_type": "code",
   "execution_count": 18,
   "id": "ab4230ff",
   "metadata": {},
   "outputs": [
    {
     "data": {
      "image/png": "[encoded data removed]",
      "text/plain": [
       "<Figure size 720x360 with 2 Axes>"
      ]
     },
     "metadata": {},
     "output_type": "display_data"
    }
   ],
   "source": [
    "plt.figure(figsize=(10,5))\n",
    "\n",
    "plt.subplot(1, 2, 1)\n",
    "plt.imshow(cv2.cvtColor(img, cv2.COLOR_BGR2RGB))\n",
    "plt.title('Manual Implementation of Harris Corner')\n",
    "plt.xticks([]), plt.yticks([])\n",
    "\n",
    "plt.subplot(1, 2, 2)\n",
    "plt.imshow(cv2.cvtColor(img2, cv2.COLOR_BGR2RGB))\n",
    "plt.title('OpenCV Implementation of Harris Corner')\n",
    "plt.xticks([]), plt.yticks([])\n",
    "\n",
    "plt.show()"
   ]
  },
  {
   "cell_type": "markdown",
   "id": "eef68f43",
   "metadata": {},
   "source": [
    "## THANK YOU"
   ]
  }
 ],
 "metadata": {
  "kernelspec": {
   "display_name": "Python 3 (ipykernel)",
   "language": "python",
   "name": "python3"
  },
  "language_info": {
   "codemirror_mode": {
    "name": "ipython",
    "version": 3
   },
   "file_extension": ".py",
   "mimetype": "text/x-python",
   "name": "python",
   "nbconvert_exporter": "python",
   "pygments_lexer": "ipython3",
   "version": "3.9.12"
  }
 },
 "nbformat": 4,
 "nbformat_minor": 5
}
